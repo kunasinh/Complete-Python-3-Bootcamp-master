{
 "cells": [
  {
   "cell_type": "code",
   "execution_count": 1,
   "metadata": {
    "collapsed": true
   },
   "outputs": [],
   "source": [
    "import random\n",
    "\n",
    "suits = ('Hearts', 'Diamonds', 'Spades', 'Clubs')\n",
    "ranks=('Two','Three', 'Four', 'Five', 'Six', 'Seven', 'Eight', 'Nine', 'Ten', 'Jack', 'Queen', 'King','Ace')\n",
    "values={'Two':2, 'Three':3, 'Four':4, 'Five':5, 'Six':6, 'Seven':7, 'Eight':8, 'Nine':9, 'Ten':10, 'Jack':10, 'Queen':10, 'King':10, 'Ace':11} \n",
    "\n",
    "playing = True"
   ]
  },
  {
   "cell_type": "code",
   "execution_count": 2,
   "metadata": {
    "collapsed": true
   },
   "outputs": [],
   "source": [
    "class Card():\n",
    "    \n",
    "    def __init__(self,suit,rank):\n",
    "        self.suit=suit\n",
    "        self.rank=rank\n",
    "        \n",
    "        \n",
    "    def __str__(self):\n",
    "        return self.rank+\" of \"+self.suit"
   ]
  },
  {
   "cell_type": "code",
   "execution_count": 3,
   "metadata": {
    "collapsed": true
   },
   "outputs": [],
   "source": [
    "class Deck:\n",
    "    \n",
    "    def __init__(self):\n",
    "        self.deck = []\n",
    "        for suit in suits:\n",
    "            for rank in ranks:\n",
    "                self.deck.append(Card(suit,rank))\n",
    "                \n",
    "    def __str__(self):\n",
    "        deck_comp = ''\n",
    "        for card in self.deck:\n",
    "            deck_comp += '\\n'+ card.__str__()\n",
    "        return \"The deck has: \" +deck_comp\n",
    "        \n",
    "    def shuffle(self):\n",
    "        random.shuffle(self.deck)\n",
    "        \n",
    "    def  deal(self):\n",
    "        single_card = self.deck.pop()\n",
    "        return single_card\n",
    "        "
   ]
  },
  {
   "cell_type": "code",
   "execution_count": 4,
   "metadata": {},
   "outputs": [],
   "source": [
    "test_deck= Deck()\n",
    "test_deck.shuffle()\n",
    "#print(test_deck)"
   ]
  },
  {
   "cell_type": "code",
   "execution_count": 5,
   "metadata": {
    "collapsed": true
   },
   "outputs": [],
   "source": [
    "class Hand:\n",
    "    \n",
    "    def __init__(self):\n",
    "        self.cards = []\n",
    "        self.value=0\n",
    "        self.aces=0\n",
    "        \n",
    "    def add_card(self,card):\n",
    "        self.cards.append(card)\n",
    "        self.value += values[card.rank]\n",
    "        \n",
    "        # track the aces\n",
    "        \n",
    "        if card.rank == 'Ace':\n",
    "            self.aces += 1    \n",
    "        \n",
    "    def adjust_for_ace(self):\n",
    "        \n",
    "        # if the total value >21 and i still have an ace then change the ace value to 1 instead of 11\n",
    "        \n",
    "        while self.value>21 and self.aces:\n",
    "            self.value -= 10  #initial value of ace is 11\n",
    "            self.aces -=1\n",
    "        "
   ]
  },
  {
   "cell_type": "code",
   "execution_count": 6,
   "metadata": {},
   "outputs": [
    {
     "name": "stdout",
     "output_type": "stream",
     "text": [
      "Seven of Hearts\n",
      "7\n"
     ]
    }
   ],
   "source": [
    "test_deck = Deck()\n",
    "test_deck.shuffle()\n",
    "\n",
    "test_player = Hand()\n",
    "pulled_card = test_deck.deal()\n",
    "print(pulled_card)\n",
    "test_player.add_card(pulled_card)\n",
    "print(test_player.value)\n"
   ]
  },
  {
   "cell_type": "code",
   "execution_count": 7,
   "metadata": {},
   "outputs": [
    {
     "name": "stdout",
     "output_type": "stream",
     "text": [
      "17\n"
     ]
    }
   ],
   "source": [
    "test_player.add_card(test_deck.deal())\n",
    "print(test_player.value)"
   ]
  },
  {
   "cell_type": "code",
   "execution_count": 8,
   "metadata": {
    "collapsed": true
   },
   "outputs": [],
   "source": [
    "class Chips:\n",
    "    \n",
    "    def __init__(self,total=100):\n",
    "        self.total = total\n",
    "        self.bet = 0\n",
    "        \n",
    "    def win_bet(self):\n",
    "        self.total += self.bet\n",
    "        \n",
    "    def lose_bet(self):\n",
    "        self.total -= self.bet"
   ]
  },
  {
   "cell_type": "code",
   "execution_count": 9,
   "metadata": {
    "collapsed": true
   },
   "outputs": [],
   "source": [
    "def take_bet(chips):\n",
    "    \n",
    "    while True:\n",
    "        \n",
    "        try:\n",
    "            chips.bet = int(input(\"How many chips would you like to bet ? \"))\n",
    "        except:\n",
    "            print(\"Please provide an integer\")\n",
    "        else:\n",
    "            if chips.bet > chips.total:\n",
    "                print(\"Sorry ! you do not have enough chips ! you have: {}\".format(chips.total))\n",
    "            else:\n",
    "                break\n",
    "    "
   ]
  },
  {
   "cell_type": "code",
   "execution_count": 10,
   "metadata": {
    "collapsed": true
   },
   "outputs": [],
   "source": [
    "def hit(deck,hand):\n",
    "    \n",
    "    single_card = deck.deal()\n",
    "    hand.add_card(single_card)\n",
    "    hand.adjust_for_ace()"
   ]
  },
  {
   "cell_type": "code",
   "execution_count": 11,
   "metadata": {
    "collapsed": true
   },
   "outputs": [],
   "source": [
    "def hit_or_stand(deck,hand):\n",
    "    global playing # to control upcoming while loop\n",
    "    \n",
    "    while True:\n",
    "        x = input('Hit or Stand? Enter h or s')\n",
    "        if x[0].lower() =='h':\n",
    "            hit(deck,hand)\n",
    "            \n",
    "        elif x[0].lower() == 's':\n",
    "            print(\"Player Stands! Dealer's turn\")\n",
    "            playing = False\n",
    "        else:\n",
    "            print(\"Invalid Input, Please enter h or s only!\")\n",
    "            continue\n",
    "        break"
   ]
  },
  {
   "cell_type": "code",
   "execution_count": 12,
   "metadata": {
    "collapsed": true
   },
   "outputs": [],
   "source": [
    "def show_some(player,dealer):\n",
    "    \n",
    "    print('DEALER HAND:')\n",
    "    print('one card hidden!')\n",
    "    print(dealer.cards[1])\n",
    "    print('\\n')\n",
    "    print('PLAYERS HAND:')\n",
    "    for card in player.cards:\n",
    "        print(card)\n",
    "        \n",
    "            \n",
    "def show_all(player,dealer):\n",
    "    \n",
    "    print('DEALER HAND:')\n",
    "    for card in player.cards:\n",
    "        print(card)\n",
    "    print('\\n')\n",
    "    print('PLAYERS HAND:')\n",
    "    for card in player.cards:\n",
    "        print(card)"
   ]
  },
  {
   "cell_type": "code",
   "execution_count": 13,
   "metadata": {
    "collapsed": true
   },
   "outputs": [],
   "source": [
    "def player_busts(player,dealer,chips):\n",
    "    \n",
    "    print(\"BUST PLAYER!\")\n",
    "    chips.lose_bet()\n",
    "    \n",
    "def player_wins(player,dealer,chips):\n",
    "    \n",
    "    print(\"PLAYER WINS!\")\n",
    "    chips.win_bet()\n",
    "    \n",
    "def dealer_busts(player,dealer,chips):\n",
    "    \n",
    "    print(\"BUST DEALER!\")\n",
    "    chips.lose_bet()\n",
    "    \n",
    "def dealer_wins(player,dealer,chips):\n",
    "    \n",
    "    print(\"DEALER WINS!\")\n",
    "    chips.win_bet()\n",
    "    \n",
    "def push(player,dealer):\n",
    "    print('Dealer and Player tie! PUSH')"
   ]
  },
  {
   "cell_type": "code",
   "execution_count": 14,
   "metadata": {},
   "outputs": [
    {
     "name": "stdout",
     "output_type": "stream",
     "text": [
      "Welcome to black jack\n",
      "How many chips would you like to bet ? 100\n",
      "DEALER HAND:\n",
      "one card hidden!\n",
      "Five of Clubs\n",
      "\n",
      "\n",
      "PLAYERS HAND:\n",
      "Jack of Spades\n",
      "Nine of Hearts\n",
      "Hit or Stand? Enter h or sh\n",
      "DEALER HAND:\n",
      "one card hidden!\n",
      "Five of Clubs\n",
      "\n",
      "\n",
      "PLAYERS HAND:\n",
      "Jack of Spades\n",
      "Nine of Hearts\n",
      "Ace of Clubs\n",
      "Hit or Stand? Enter h or ss\n",
      "Player Stands! Dealer's turn\n",
      "DEALER HAND:\n",
      "one card hidden!\n",
      "Five of Clubs\n",
      "\n",
      "\n",
      "PLAYERS HAND:\n",
      "Jack of Spades\n",
      "Nine of Hearts\n",
      "Ace of Clubs\n",
      "DEALER HAND:\n",
      "Jack of Spades\n",
      "Nine of Hearts\n",
      "Ace of Clubs\n",
      "\n",
      "\n",
      "PLAYERS HAND:\n",
      "Jack of Spades\n",
      "Nine of Hearts\n",
      "Ace of Clubs\n",
      "BUST DEALER!\n",
      "\n",
      " player total chips are at 0\n",
      "Would you like to play again? y/nn\n",
      "Thank you for playing!\n"
     ]
    }
   ],
   "source": [
    "while True:\n",
    "    \n",
    "    print(\"Welcome to black jack\")\n",
    "    \n",
    "    # create and shuffle the deck, deal two cards toeach player\n",
    "    deck = Deck()\n",
    "    deck.shuffle()\n",
    "    \n",
    "    player_hand = Hand()\n",
    "    player_hand.add_card(deck.deal())\n",
    "    player_hand.add_card(deck.deal())\n",
    "    \n",
    "    dealer_hand = Hand()\n",
    "    dealer_hand.add_card(deck.deal())\n",
    "    dealer_hand.add_card(deck.deal())\n",
    "    \n",
    "    # set up player chips\n",
    "    player_chips = Chips()\n",
    "    \n",
    "    # Prompt the player for their bet\n",
    "    take_bet(player_chips)\n",
    "    \n",
    "    #show some cards\n",
    "    show_some(player_hand,dealer_hand)\n",
    "    \n",
    "    while playing:\n",
    "        \n",
    "        hit_or_stand(deck,player_hand)\n",
    "        \n",
    "        show_some(player_hand,dealer_hand)\n",
    "        \n",
    "        if player_hand.value > 21:\n",
    "            player_busts(player_hand,dealer_hand,player_chips)\n",
    "            \n",
    "            break\n",
    "            \n",
    "    \n",
    "    # if player hasn't busted, play dealer's hand untill reaches 17\n",
    "    \n",
    "    if player_hand.value <=21:\n",
    "        \n",
    "        while dealer_hand.value < player_hand.value:\n",
    "            hit(deck,dealer_hand)\n",
    "            \n",
    "    #show all\n",
    "    \n",
    "    show_all(player_hand,dealer_hand)\n",
    "    \n",
    "    if dealer_hand.value >21:\n",
    "        dealer_busts(player_hand,dealer_hand,player_chips)\n",
    "    elif dealer_hand.value > player_hand.value:\n",
    "        dealer_wins(player_hand,dealer_hand,player_chips)\n",
    "    elif dealer_hand.value < player_hand.value:\n",
    "        player_wins(player_hand,dealer_hand,player_chips)\n",
    "    else:\n",
    "        push(player_hand,dealer_hand)\n",
    "        \n",
    "    print('\\n player total chips are at {}'.format(player_chips.total))\n",
    "    new_game = input(\"Would you like to play again? y/n\")\n",
    "\n",
    "    if new_game[0].lower() == 'y':\n",
    "        playing=True\n",
    "        continue\n",
    "    else:\n",
    "        print(\"Thank you for playing!\")\n",
    "        break"
   ]
  },
  {
   "cell_type": "code",
   "execution_count": null,
   "metadata": {
    "collapsed": true
   },
   "outputs": [],
   "source": []
  }
 ],
 "metadata": {
  "kernelspec": {
   "display_name": "Python 3",
   "language": "python",
   "name": "python3"
  },
  "language_info": {
   "codemirror_mode": {
    "name": "ipython",
    "version": 3
   },
   "file_extension": ".py",
   "mimetype": "text/x-python",
   "name": "python",
   "nbconvert_exporter": "python",
   "pygments_lexer": "ipython3",
   "version": "3.6.3"
  }
 },
 "nbformat": 4,
 "nbformat_minor": 2
}
